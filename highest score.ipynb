{
  "nbformat": 4,
  "nbformat_minor": 0,
  "metadata": {
    "colab": {
      "provenance": []
    },
    "kernelspec": {
      "name": "python3",
      "display_name": "Python 3"
    },
    "language_info": {
      "name": "python"
    }
  },
  "cells": [
    {
      "cell_type": "code",
      "execution_count": 2,
      "metadata": {
        "colab": {
          "base_uri": "https://localhost:8080/"
        },
        "id": "cLotWj611RIc",
        "outputId": "538f1e10-b68e-4f61-c228-70353ce79034"
      },
      "outputs": [
        {
          "output_type": "stream",
          "name": "stdout",
          "text": [
            "Collecting catboost\n",
            "  Downloading catboost-1.2-cp310-cp310-manylinux2014_x86_64.whl (98.6 MB)\n",
            "\u001b[2K     \u001b[90m━━━━━━━━━━━━━━━━━━━━━━━━━━━━━━━━━━━━━━━━\u001b[0m \u001b[32m98.6/98.6 MB\u001b[0m \u001b[31m9.3 MB/s\u001b[0m eta \u001b[36m0:00:00\u001b[0m\n",
            "\u001b[?25hRequirement already satisfied: graphviz in /usr/local/lib/python3.10/dist-packages (from catboost) (0.20.1)\n",
            "Requirement already satisfied: matplotlib in /usr/local/lib/python3.10/dist-packages (from catboost) (3.7.1)\n",
            "Requirement already satisfied: numpy>=1.16.0 in /usr/local/lib/python3.10/dist-packages (from catboost) (1.22.4)\n",
            "Requirement already satisfied: pandas>=0.24 in /usr/local/lib/python3.10/dist-packages (from catboost) (1.5.3)\n",
            "Requirement already satisfied: scipy in /usr/local/lib/python3.10/dist-packages (from catboost) (1.10.1)\n",
            "Requirement already satisfied: plotly in /usr/local/lib/python3.10/dist-packages (from catboost) (5.13.1)\n",
            "Requirement already satisfied: six in /usr/local/lib/python3.10/dist-packages (from catboost) (1.16.0)\n",
            "Requirement already satisfied: python-dateutil>=2.8.1 in /usr/local/lib/python3.10/dist-packages (from pandas>=0.24->catboost) (2.8.2)\n",
            "Requirement already satisfied: pytz>=2020.1 in /usr/local/lib/python3.10/dist-packages (from pandas>=0.24->catboost) (2022.7.1)\n",
            "Requirement already satisfied: contourpy>=1.0.1 in /usr/local/lib/python3.10/dist-packages (from matplotlib->catboost) (1.1.0)\n",
            "Requirement already satisfied: cycler>=0.10 in /usr/local/lib/python3.10/dist-packages (from matplotlib->catboost) (0.11.0)\n",
            "Requirement already satisfied: fonttools>=4.22.0 in /usr/local/lib/python3.10/dist-packages (from matplotlib->catboost) (4.41.0)\n",
            "Requirement already satisfied: kiwisolver>=1.0.1 in /usr/local/lib/python3.10/dist-packages (from matplotlib->catboost) (1.4.4)\n",
            "Requirement already satisfied: packaging>=20.0 in /usr/local/lib/python3.10/dist-packages (from matplotlib->catboost) (23.1)\n",
            "Requirement already satisfied: pillow>=6.2.0 in /usr/local/lib/python3.10/dist-packages (from matplotlib->catboost) (8.4.0)\n",
            "Requirement already satisfied: pyparsing>=2.3.1 in /usr/local/lib/python3.10/dist-packages (from matplotlib->catboost) (3.1.0)\n",
            "Requirement already satisfied: tenacity>=6.2.0 in /usr/local/lib/python3.10/dist-packages (from plotly->catboost) (8.2.2)\n",
            "Installing collected packages: catboost\n",
            "Successfully installed catboost-1.2\n"
          ]
        }
      ],
      "source": [
        "!pip install catboost"
      ]
    },
    {
      "cell_type": "code",
      "source": [
        "import numpy as np\n",
        "import pandas as pd\n",
        "from sklearn.model_selection import train_test_split\n",
        "from sklearn.metrics import log_loss, confusion_matrix, classification_report\n",
        "from catboost import CatBoostClassifier\n",
        "from sklearn.impute import SimpleImputer"
      ],
      "metadata": {
        "id": "7rW24RAe16tJ"
      },
      "execution_count": 3,
      "outputs": []
    },
    {
      "cell_type": "code",
      "source": [
        "#load data\n",
        "train_data = pd.read_csv('train (1).csv')\n",
        "\n"
      ],
      "metadata": {
        "id": "jtKlzfDF1-hq"
      },
      "execution_count": 4,
      "outputs": []
    },
    {
      "cell_type": "code",
      "source": [
        "#dealing with null values\n",
        "train_data[\"Popularity\"].fillna(train_data[\"Popularity\"].mean(), inplace=True)\n",
        "train_data[\"key\"].fillna(train_data[\"key\"].mode()[0], inplace=True)\n",
        "train_data[\"instrumentalness\"].fillna(0, inplace=True)"
      ],
      "metadata": {
        "id": "hJ05bGdv2NHe"
      },
      "execution_count": 5,
      "outputs": []
    },
    {
      "cell_type": "code",
      "source": [
        "# changes the data type of the columns \"Artist Name\" and \"Track Name\" in  dataFrame to strings.\n",
        "cat_cols = ['Artist Name','Track Name']\n",
        "for col in cat_cols:\n",
        "    train_data[col] = train_data[col].astype('str')"
      ],
      "metadata": {
        "id": "irQP1Dj02PI4"
      },
      "execution_count": null,
      "outputs": []
    },
    {
      "cell_type": "code",
      "source": [
        "X= train_data.drop('Class' ,axis = 1)\n",
        "y = train_data['Class']"
      ],
      "metadata": {
        "id": "afXzRo462XOB"
      },
      "execution_count": null,
      "outputs": []
    },
    {
      "cell_type": "code",
      "source": [
        "X_train, X_test, y_train, y_test = train_test_split(X, y, test_size=0.2, random_state=42)"
      ],
      "metadata": {
        "id": "JFYpYGzy2u3Y"
      },
      "execution_count": null,
      "outputs": []
    },
    {
      "cell_type": "code",
      "source": [
        "#using catboost classifier\n",
        "model = CatBoostClassifier(loss_function='MultiClass', verbose=False)\n",
        "model.fit(X_train, y_train, cat_features=cat_cols)"
      ],
      "metadata": {
        "colab": {
          "base_uri": "https://localhost:8080/"
        },
        "id": "A0y2NGNS3CZ8",
        "outputId": "900846fd-bb35-4c35-fa73-cd96fe6bd2df"
      },
      "execution_count": null,
      "outputs": [
        {
          "output_type": "execute_result",
          "data": {
            "text/plain": [
              "<catboost.core.CatBoostClassifier at 0x7d417a062e00>"
            ]
          },
          "metadata": {},
          "execution_count": 9
        }
      ]
    },
    {
      "cell_type": "code",
      "source": [
        "#calculates the log loss of the model predictions\n",
        "y_pred_train = model.predict_proba(X_train)\n",
        "y_pred_test = model.predict_proba(X_test)\n",
        "train_log_loss = log_loss(y_train, y_pred_train)\n",
        "test_log_loss = log_loss(y_test, y_pred_test)\n",
        "print(f\"Train log loss: {train_log_loss}\")\n",
        "print(f\"Test log loss: {test_log_loss}\")"
      ],
      "metadata": {
        "colab": {
          "base_uri": "https://localhost:8080/"
        },
        "id": "VCZE0sgn3VM4",
        "outputId": "a4693245-3aed-4cb5-db21-ef5eff39792a"
      },
      "execution_count": null,
      "outputs": [
        {
          "output_type": "stream",
          "name": "stdout",
          "text": [
            "Train log loss: 1.4056001653830368\n",
            "Test log loss: 0.8601866602119906\n"
          ]
        }
      ]
    },
    {
      "cell_type": "code",
      "source": [
        "# Additional evaluation\n",
        "\n",
        "y_pred_test_labels = model.predict(X_test)\n",
        "\n",
        "test_classification_report = classification_report(y_test, y_pred_test_labels)\n",
        "\n",
        "print(\"Test Classification Report:\")\n",
        "print(test_classification_report)"
      ],
      "metadata": {
        "colab": {
          "base_uri": "https://localhost:8080/"
        },
        "id": "H4blOJH_6CJr",
        "outputId": "8a49a65e-2aab-49ff-fa23-85604f643095"
      },
      "execution_count": null,
      "outputs": [
        {
          "output_type": "stream",
          "name": "stdout",
          "text": [
            "Test Classification Report:\n",
            "              precision    recall  f1-score   support\n",
            "\n",
            "           0       0.85      0.88      0.87       104\n",
            "           1       0.44      0.21      0.28       204\n",
            "           2       0.72      0.62      0.67       235\n",
            "           3       0.90      0.93      0.91        68\n",
            "           4       0.85      0.81      0.83        68\n",
            "           5       0.79      0.81      0.79       236\n",
            "           6       0.54      0.51      0.53       403\n",
            "           7       0.98      0.94      0.96        87\n",
            "           8       0.74      0.74      0.74       292\n",
            "           9       0.70      0.67      0.68       406\n",
            "          10       0.62      0.76      0.68       777\n",
            "\n",
            "    accuracy                           0.68      2880\n",
            "   macro avg       0.74      0.72      0.72      2880\n",
            "weighted avg       0.67      0.68      0.67      2880\n",
            "\n"
          ]
        }
      ]
    },
    {
      "cell_type": "code",
      "source": [
        "#using random forest classifier\n",
        "from sklearn.ensemble import RandomForestClassifier\n",
        "\n",
        "tree = RandomForestClassifier(\n",
        "    n_estimators=100,\n",
        "    criterion='gini',\n",
        "    max_depth=None,\n",
        "    min_samples_split=2,\n",
        "    min_samples_leaf=1,\n",
        "    class_weight=None,  # Adjust based on class imbalance\n",
        "    bootstrap=True,  # Use bootstrap sampling\n",
        "    oob_score=True  # Enable out-of-bag (OOB) scoring\n",
        ")\n",
        "X_train.drop(columns=[\"Id\", \"Track Name\", \"Artist Name\"], inplace=True)\n",
        "\n",
        "X_test.drop(columns=[\"Id\", \"Track Name\", \"Artist Name\"], inplace=True)\n",
        "\n",
        "\n",
        "\n",
        "tree.fit(X_train,y_train)\n",
        "\n"
      ],
      "metadata": {
        "colab": {
          "base_uri": "https://localhost:8080/",
          "height": 74
        },
        "id": "3X7eDePI3xaP",
        "outputId": "09cbfae1-aea3-46da-bba5-28aa00bed0fa"
      },
      "execution_count": null,
      "outputs": [
        {
          "output_type": "execute_result",
          "data": {
            "text/plain": [
              "RandomForestClassifier(oob_score=True)"
            ],
            "text/html": [
              "<style>#sk-container-id-1 {color: black;background-color: white;}#sk-container-id-1 pre{padding: 0;}#sk-container-id-1 div.sk-toggleable {background-color: white;}#sk-container-id-1 label.sk-toggleable__label {cursor: pointer;display: block;width: 100%;margin-bottom: 0;padding: 0.3em;box-sizing: border-box;text-align: center;}#sk-container-id-1 label.sk-toggleable__label-arrow:before {content: \"▸\";float: left;margin-right: 0.25em;color: #696969;}#sk-container-id-1 label.sk-toggleable__label-arrow:hover:before {color: black;}#sk-container-id-1 div.sk-estimator:hover label.sk-toggleable__label-arrow:before {color: black;}#sk-container-id-1 div.sk-toggleable__content {max-height: 0;max-width: 0;overflow: hidden;text-align: left;background-color: #f0f8ff;}#sk-container-id-1 div.sk-toggleable__content pre {margin: 0.2em;color: black;border-radius: 0.25em;background-color: #f0f8ff;}#sk-container-id-1 input.sk-toggleable__control:checked~div.sk-toggleable__content {max-height: 200px;max-width: 100%;overflow: auto;}#sk-container-id-1 input.sk-toggleable__control:checked~label.sk-toggleable__label-arrow:before {content: \"▾\";}#sk-container-id-1 div.sk-estimator input.sk-toggleable__control:checked~label.sk-toggleable__label {background-color: #d4ebff;}#sk-container-id-1 div.sk-label input.sk-toggleable__control:checked~label.sk-toggleable__label {background-color: #d4ebff;}#sk-container-id-1 input.sk-hidden--visually {border: 0;clip: rect(1px 1px 1px 1px);clip: rect(1px, 1px, 1px, 1px);height: 1px;margin: -1px;overflow: hidden;padding: 0;position: absolute;width: 1px;}#sk-container-id-1 div.sk-estimator {font-family: monospace;background-color: #f0f8ff;border: 1px dotted black;border-radius: 0.25em;box-sizing: border-box;margin-bottom: 0.5em;}#sk-container-id-1 div.sk-estimator:hover {background-color: #d4ebff;}#sk-container-id-1 div.sk-parallel-item::after {content: \"\";width: 100%;border-bottom: 1px solid gray;flex-grow: 1;}#sk-container-id-1 div.sk-label:hover label.sk-toggleable__label {background-color: #d4ebff;}#sk-container-id-1 div.sk-serial::before {content: \"\";position: absolute;border-left: 1px solid gray;box-sizing: border-box;top: 0;bottom: 0;left: 50%;z-index: 0;}#sk-container-id-1 div.sk-serial {display: flex;flex-direction: column;align-items: center;background-color: white;padding-right: 0.2em;padding-left: 0.2em;position: relative;}#sk-container-id-1 div.sk-item {position: relative;z-index: 1;}#sk-container-id-1 div.sk-parallel {display: flex;align-items: stretch;justify-content: center;background-color: white;position: relative;}#sk-container-id-1 div.sk-item::before, #sk-container-id-1 div.sk-parallel-item::before {content: \"\";position: absolute;border-left: 1px solid gray;box-sizing: border-box;top: 0;bottom: 0;left: 50%;z-index: -1;}#sk-container-id-1 div.sk-parallel-item {display: flex;flex-direction: column;z-index: 1;position: relative;background-color: white;}#sk-container-id-1 div.sk-parallel-item:first-child::after {align-self: flex-end;width: 50%;}#sk-container-id-1 div.sk-parallel-item:last-child::after {align-self: flex-start;width: 50%;}#sk-container-id-1 div.sk-parallel-item:only-child::after {width: 0;}#sk-container-id-1 div.sk-dashed-wrapped {border: 1px dashed gray;margin: 0 0.4em 0.5em 0.4em;box-sizing: border-box;padding-bottom: 0.4em;background-color: white;}#sk-container-id-1 div.sk-label label {font-family: monospace;font-weight: bold;display: inline-block;line-height: 1.2em;}#sk-container-id-1 div.sk-label-container {text-align: center;}#sk-container-id-1 div.sk-container {/* jupyter's `normalize.less` sets `[hidden] { display: none; }` but bootstrap.min.css set `[hidden] { display: none !important; }` so we also need the `!important` here to be able to override the default hidden behavior on the sphinx rendered scikit-learn.org. See: https://github.com/scikit-learn/scikit-learn/issues/21755 */display: inline-block !important;position: relative;}#sk-container-id-1 div.sk-text-repr-fallback {display: none;}</style><div id=\"sk-container-id-1\" class=\"sk-top-container\"><div class=\"sk-text-repr-fallback\"><pre>RandomForestClassifier(oob_score=True)</pre><b>In a Jupyter environment, please rerun this cell to show the HTML representation or trust the notebook. <br />On GitHub, the HTML representation is unable to render, please try loading this page with nbviewer.org.</b></div><div class=\"sk-container\" hidden><div class=\"sk-item\"><div class=\"sk-estimator sk-toggleable\"><input class=\"sk-toggleable__control sk-hidden--visually\" id=\"sk-estimator-id-1\" type=\"checkbox\" checked><label for=\"sk-estimator-id-1\" class=\"sk-toggleable__label sk-toggleable__label-arrow\">RandomForestClassifier</label><div class=\"sk-toggleable__content\"><pre>RandomForestClassifier(oob_score=True)</pre></div></div></div></div></div>"
            ]
          },
          "metadata": {},
          "execution_count": 12
        }
      ]
    },
    {
      "cell_type": "code",
      "source": [
        "print(y_train)"
      ],
      "metadata": {
        "colab": {
          "base_uri": "https://localhost:8080/"
        },
        "id": "ESzgnY738hXh",
        "outputId": "412b107a-004f-47f1-f7ec-9c6508aabf70"
      },
      "execution_count": null,
      "outputs": [
        {
          "output_type": "stream",
          "name": "stdout",
          "text": [
            "6913     10\n",
            "13624     9\n",
            "13587     7\n",
            "8140      2\n",
            "11691     6\n",
            "         ..\n",
            "5191      5\n",
            "13418     1\n",
            "5390     10\n",
            "860       5\n",
            "7270      6\n",
            "Name: Class, Length: 11516, dtype: int64\n"
          ]
        }
      ]
    },
    {
      "cell_type": "code",
      "source": [
        "y_pred_train = tree.predict_proba(X_train)\n",
        "y_pred_test =tree.predict_proba(X_test)\n",
        "train_log_loss = log_loss(y_train, y_pred_train)\n",
        "test_log_loss = log_loss(y_test, y_pred_test)\n",
        "print(f\"Train log loss: {train_log_loss}\")\n",
        "print(f\"Test log loss: {test_log_loss}\")\n"
      ],
      "metadata": {
        "colab": {
          "base_uri": "https://localhost:8080/"
        },
        "id": "Wdu0-1ve336U",
        "outputId": "4cf83019-3495-451f-ccd8-45526c6d6b09"
      },
      "execution_count": null,
      "outputs": [
        {
          "output_type": "stream",
          "name": "stdout",
          "text": [
            "Train log loss: 0.3269464971273684\n",
            "Test log loss: 1.5836106416725007\n"
          ]
        }
      ]
    },
    {
      "cell_type": "code",
      "source": [
        "\n",
        "\n",
        "y_pred_test_labels = tree.predict(X_test)\n",
        "test_classification_report = classification_report(y_test, y_pred_test_labels)\n",
        "print(\"Test Classification Report:\")\n",
        "print(test_classification_report)\n"
      ],
      "metadata": {
        "colab": {
          "base_uri": "https://localhost:8080/"
        },
        "id": "6WdvQTFI6s1m",
        "outputId": "050357f2-f4e7-4ecd-cb5c-66419352d04b"
      },
      "execution_count": null,
      "outputs": [
        {
          "output_type": "stream",
          "name": "stdout",
          "text": [
            "Test Classification Report:\n",
            "              precision    recall  f1-score   support\n",
            "\n",
            "           0       0.66      0.82      0.73       104\n",
            "           1       0.03      0.01      0.02       204\n",
            "           2       0.60      0.28      0.38       235\n",
            "           3       0.88      0.72      0.79        68\n",
            "           4       0.69      0.68      0.68        68\n",
            "           5       0.74      0.67      0.70       236\n",
            "           6       0.35      0.33      0.34       403\n",
            "           7       0.95      0.94      0.95        87\n",
            "           8       0.64      0.54      0.58       292\n",
            "           9       0.53      0.55      0.54       406\n",
            "          10       0.45      0.61      0.52       777\n",
            "\n",
            "    accuracy                           0.51      2880\n",
            "   macro avg       0.59      0.56      0.57      2880\n",
            "weighted avg       0.51      0.51      0.50      2880\n",
            "\n"
          ]
        }
      ]
    },
    {
      "cell_type": "code",
      "source": [
        "\n",
        "test_data = pd.read_csv('test (2).csv')\n",
        "\n"
      ],
      "metadata": {
        "id": "CI0GSTzD3W-d"
      },
      "execution_count": null,
      "outputs": []
    },
    {
      "cell_type": "code",
      "source": [
        "test_data[\"Popularity\"].fillna(test_data[\"Popularity\"].mean(), inplace=True)\n",
        "test_data[\"key\"].fillna(test_data[\"key\"].mode()[0], inplace=True)\n",
        "test_data[\"instrumentalness\"].fillna(0, inplace=True)\n"
      ],
      "metadata": {
        "id": "6GCubhhp3iuO"
      },
      "execution_count": null,
      "outputs": []
    },
    {
      "cell_type": "code",
      "source": [
        "y_pred = model.predict_proba(test_data)\n",
        "\n",
        "test_data[\"Class\"] = model.predict(test_data)\n",
        "\n",
        "# Select only the 'Class' and 'id' columns\n",
        "selected_columns = ['Id','Class']\n",
        "submission = test_data[selected_columns]\n",
        "\n",
        "# Save the adjusted predictions to a CSV file\n",
        "submission.to_csv(\"best model.csv\", index=False)\n",
        "\n"
      ],
      "metadata": {
        "id": "STlkrTca6-jZ"
      },
      "execution_count": null,
      "outputs": []
    },
    {
      "cell_type": "code",
      "source": [
        "print(test_data['Class'].value_counts())"
      ],
      "metadata": {
        "colab": {
          "base_uri": "https://localhost:8080/"
        },
        "id": "wF3jhiAk9k8m",
        "outputId": "cdda3d5f-27e5-40c8-dbb8-bdbcff229049"
      },
      "execution_count": null,
      "outputs": [
        {
          "output_type": "stream",
          "name": "stdout",
          "text": [
            "10    1237\n",
            "6      555\n",
            "9      404\n",
            "8      309\n",
            "5      302\n",
            "2      233\n",
            "1      156\n",
            "0      145\n",
            "7      111\n",
            "3       76\n",
            "4       72\n",
            "Name: Class, dtype: int64\n"
          ]
        }
      ]
    },
    {
      "cell_type": "markdown",
      "source": [
        "* Summary:\n",
        "The highest accuracy was achieved using the CatBoost classifier."
      ],
      "metadata": {
        "id": "ghST7ZTQ2Onc"
      }
    },
    {
      "cell_type": "code",
      "source": [],
      "metadata": {
        "id": "DIIJVOPn2PxW"
      },
      "execution_count": null,
      "outputs": []
    }
  ]
}
