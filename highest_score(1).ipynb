{
  "cells": [
    {
      "cell_type": "code",
      "source": [
        "!pip install catboost"
      ],
      "metadata": {
        "colab": {
          "base_uri": "https://localhost:8080/"
        },
        "id": "fSCGaDATMxvN",
        "outputId": "d032942d-9eed-4715-80ec-fa7a03d992f4"
      },
      "execution_count": null,
      "outputs": [
        {
          "output_type": "stream",
          "name": "stdout",
          "text": [
            "Collecting catboost\n",
            "  Downloading catboost-1.2-cp310-cp310-manylinux2014_x86_64.whl (98.6 MB)\n",
            "\u001b[2K     \u001b[90m━━━━━━━━━━━━━━━━━━━━━━━━━━━━━━━━━━━━━━━━\u001b[0m \u001b[32m98.6/98.6 MB\u001b[0m \u001b[31m8.9 MB/s\u001b[0m eta \u001b[36m0:00:00\u001b[0m\n",
            "\u001b[?25hRequirement already satisfied: graphviz in /usr/local/lib/python3.10/dist-packages (from catboost) (0.20.1)\n",
            "Requirement already satisfied: matplotlib in /usr/local/lib/python3.10/dist-packages (from catboost) (3.7.1)\n",
            "Requirement already satisfied: numpy>=1.16.0 in /usr/local/lib/python3.10/dist-packages (from catboost) (1.22.4)\n",
            "Requirement already satisfied: pandas>=0.24 in /usr/local/lib/python3.10/dist-packages (from catboost) (1.5.3)\n",
            "Requirement already satisfied: scipy in /usr/local/lib/python3.10/dist-packages (from catboost) (1.10.1)\n",
            "Requirement already satisfied: plotly in /usr/local/lib/python3.10/dist-packages (from catboost) (5.13.1)\n",
            "Requirement already satisfied: six in /usr/local/lib/python3.10/dist-packages (from catboost) (1.16.0)\n",
            "Requirement already satisfied: python-dateutil>=2.8.1 in /usr/local/lib/python3.10/dist-packages (from pandas>=0.24->catboost) (2.8.2)\n",
            "Requirement already satisfied: pytz>=2020.1 in /usr/local/lib/python3.10/dist-packages (from pandas>=0.24->catboost) (2022.7.1)\n",
            "Requirement already satisfied: contourpy>=1.0.1 in /usr/local/lib/python3.10/dist-packages (from matplotlib->catboost) (1.1.0)\n",
            "Requirement already satisfied: cycler>=0.10 in /usr/local/lib/python3.10/dist-packages (from matplotlib->catboost) (0.11.0)\n",
            "Requirement already satisfied: fonttools>=4.22.0 in /usr/local/lib/python3.10/dist-packages (from matplotlib->catboost) (4.40.0)\n",
            "Requirement already satisfied: kiwisolver>=1.0.1 in /usr/local/lib/python3.10/dist-packages (from matplotlib->catboost) (1.4.4)\n",
            "Requirement already satisfied: packaging>=20.0 in /usr/local/lib/python3.10/dist-packages (from matplotlib->catboost) (23.1)\n",
            "Requirement already satisfied: pillow>=6.2.0 in /usr/local/lib/python3.10/dist-packages (from matplotlib->catboost) (8.4.0)\n",
            "Requirement already satisfied: pyparsing>=2.3.1 in /usr/local/lib/python3.10/dist-packages (from matplotlib->catboost) (3.1.0)\n",
            "Requirement already satisfied: tenacity>=6.2.0 in /usr/local/lib/python3.10/dist-packages (from plotly->catboost) (8.2.2)\n",
            "Installing collected packages: catboost\n",
            "Successfully installed catboost-1.2\n"
          ]
        }
      ]
    },
    {
      "cell_type": "code",
      "execution_count": null,
      "metadata": {
        "id": "ye8s3wA1MuFc"
      },
      "outputs": [],
      "source": [
        "# importing libraries\n",
        "import numpy as np\n",
        "import pandas as pd\n",
        "from catboost import CatBoostClassifier\n",
        "from sklearn.metrics import classification_report\n"
      ]
    },
    {
      "cell_type": "code",
      "execution_count": null,
      "metadata": {
        "colab": {
          "base_uri": "https://localhost:8080/",
          "height": 206
        },
        "id": "SuOiTDS3MuFe",
        "outputId": "609e8197-53a8-43e6-e069-afc86ac9789d"
      },
      "outputs": [
        {
          "output_type": "execute_result",
          "data": {
            "text/plain": [
              "   Id          Artist Name       Track Name  Popularity  danceability  energy  \\\n",
              "0   1    Marina Maximilian       Not Afraid        37.0         0.334   0.536   \n",
              "1   2       The Black Keys  Howlin' for You        67.0         0.725   0.747   \n",
              "2   3  Royal & the Serpent          phuck u         NaN         0.584   0.804   \n",
              "3   4   Detroit Blues Band      Missing You        12.0         0.515   0.308   \n",
              "4   5         Coast Contra          My Lady        48.0         0.565   0.777   \n",
              "\n",
              "    key  loudness  mode  speechiness  acousticness  instrumentalness  \\\n",
              "0   9.0    -6.649     0       0.0381      0.378000               NaN   \n",
              "1  11.0    -5.545     1       0.0876      0.027200            0.0468   \n",
              "2   7.0    -6.094     1       0.0619      0.000968            0.6350   \n",
              "3   NaN   -14.711     1       0.0312      0.907000            0.0213   \n",
              "4   6.0    -5.096     0       0.2490      0.183000               NaN   \n",
              "\n",
              "   liveness  valence    tempo  duration_in min/ms  time_signature  Class  \n",
              "0     0.106    0.235  152.429            204947.0               4      9  \n",
              "1     0.104    0.380  132.921            191956.0               4      6  \n",
              "2     0.284    0.635  159.953            161037.0               4     10  \n",
              "3     0.300    0.501  172.472            298093.0               3      2  \n",
              "4     0.211    0.619   88.311            254145.0               4      5  "
            ],
            "text/html": [
              "\n",
              "\n",
              "  <div id=\"df-c258b728-90f7-4627-a9a1-3e2a2356cf31\">\n",
              "    <div class=\"colab-df-container\">\n",
              "      <div>\n",
              "<style scoped>\n",
              "    .dataframe tbody tr th:only-of-type {\n",
              "        vertical-align: middle;\n",
              "    }\n",
              "\n",
              "    .dataframe tbody tr th {\n",
              "        vertical-align: top;\n",
              "    }\n",
              "\n",
              "    .dataframe thead th {\n",
              "        text-align: right;\n",
              "    }\n",
              "</style>\n",
              "<table border=\"1\" class=\"dataframe\">\n",
              "  <thead>\n",
              "    <tr style=\"text-align: right;\">\n",
              "      <th></th>\n",
              "      <th>Id</th>\n",
              "      <th>Artist Name</th>\n",
              "      <th>Track Name</th>\n",
              "      <th>Popularity</th>\n",
              "      <th>danceability</th>\n",
              "      <th>energy</th>\n",
              "      <th>key</th>\n",
              "      <th>loudness</th>\n",
              "      <th>mode</th>\n",
              "      <th>speechiness</th>\n",
              "      <th>acousticness</th>\n",
              "      <th>instrumentalness</th>\n",
              "      <th>liveness</th>\n",
              "      <th>valence</th>\n",
              "      <th>tempo</th>\n",
              "      <th>duration_in min/ms</th>\n",
              "      <th>time_signature</th>\n",
              "      <th>Class</th>\n",
              "    </tr>\n",
              "  </thead>\n",
              "  <tbody>\n",
              "    <tr>\n",
              "      <th>0</th>\n",
              "      <td>1</td>\n",
              "      <td>Marina Maximilian</td>\n",
              "      <td>Not Afraid</td>\n",
              "      <td>37.0</td>\n",
              "      <td>0.334</td>\n",
              "      <td>0.536</td>\n",
              "      <td>9.0</td>\n",
              "      <td>-6.649</td>\n",
              "      <td>0</td>\n",
              "      <td>0.0381</td>\n",
              "      <td>0.378000</td>\n",
              "      <td>NaN</td>\n",
              "      <td>0.106</td>\n",
              "      <td>0.235</td>\n",
              "      <td>152.429</td>\n",
              "      <td>204947.0</td>\n",
              "      <td>4</td>\n",
              "      <td>9</td>\n",
              "    </tr>\n",
              "    <tr>\n",
              "      <th>1</th>\n",
              "      <td>2</td>\n",
              "      <td>The Black Keys</td>\n",
              "      <td>Howlin' for You</td>\n",
              "      <td>67.0</td>\n",
              "      <td>0.725</td>\n",
              "      <td>0.747</td>\n",
              "      <td>11.0</td>\n",
              "      <td>-5.545</td>\n",
              "      <td>1</td>\n",
              "      <td>0.0876</td>\n",
              "      <td>0.027200</td>\n",
              "      <td>0.0468</td>\n",
              "      <td>0.104</td>\n",
              "      <td>0.380</td>\n",
              "      <td>132.921</td>\n",
              "      <td>191956.0</td>\n",
              "      <td>4</td>\n",
              "      <td>6</td>\n",
              "    </tr>\n",
              "    <tr>\n",
              "      <th>2</th>\n",
              "      <td>3</td>\n",
              "      <td>Royal &amp; the Serpent</td>\n",
              "      <td>phuck u</td>\n",
              "      <td>NaN</td>\n",
              "      <td>0.584</td>\n",
              "      <td>0.804</td>\n",
              "      <td>7.0</td>\n",
              "      <td>-6.094</td>\n",
              "      <td>1</td>\n",
              "      <td>0.0619</td>\n",
              "      <td>0.000968</td>\n",
              "      <td>0.6350</td>\n",
              "      <td>0.284</td>\n",
              "      <td>0.635</td>\n",
              "      <td>159.953</td>\n",
              "      <td>161037.0</td>\n",
              "      <td>4</td>\n",
              "      <td>10</td>\n",
              "    </tr>\n",
              "    <tr>\n",
              "      <th>3</th>\n",
              "      <td>4</td>\n",
              "      <td>Detroit Blues Band</td>\n",
              "      <td>Missing You</td>\n",
              "      <td>12.0</td>\n",
              "      <td>0.515</td>\n",
              "      <td>0.308</td>\n",
              "      <td>NaN</td>\n",
              "      <td>-14.711</td>\n",
              "      <td>1</td>\n",
              "      <td>0.0312</td>\n",
              "      <td>0.907000</td>\n",
              "      <td>0.0213</td>\n",
              "      <td>0.300</td>\n",
              "      <td>0.501</td>\n",
              "      <td>172.472</td>\n",
              "      <td>298093.0</td>\n",
              "      <td>3</td>\n",
              "      <td>2</td>\n",
              "    </tr>\n",
              "    <tr>\n",
              "      <th>4</th>\n",
              "      <td>5</td>\n",
              "      <td>Coast Contra</td>\n",
              "      <td>My Lady</td>\n",
              "      <td>48.0</td>\n",
              "      <td>0.565</td>\n",
              "      <td>0.777</td>\n",
              "      <td>6.0</td>\n",
              "      <td>-5.096</td>\n",
              "      <td>0</td>\n",
              "      <td>0.2490</td>\n",
              "      <td>0.183000</td>\n",
              "      <td>NaN</td>\n",
              "      <td>0.211</td>\n",
              "      <td>0.619</td>\n",
              "      <td>88.311</td>\n",
              "      <td>254145.0</td>\n",
              "      <td>4</td>\n",
              "      <td>5</td>\n",
              "    </tr>\n",
              "  </tbody>\n",
              "</table>\n",
              "</div>\n",
              "      <button class=\"colab-df-convert\" onclick=\"convertToInteractive('df-c258b728-90f7-4627-a9a1-3e2a2356cf31')\"\n",
              "              title=\"Convert this dataframe to an interactive table.\"\n",
              "              style=\"display:none;\">\n",
              "\n",
              "  <svg xmlns=\"http://www.w3.org/2000/svg\" height=\"24px\"viewBox=\"0 0 24 24\"\n",
              "       width=\"24px\">\n",
              "    <path d=\"M0 0h24v24H0V0z\" fill=\"none\"/>\n",
              "    <path d=\"M18.56 5.44l.94 2.06.94-2.06 2.06-.94-2.06-.94-.94-2.06-.94 2.06-2.06.94zm-11 1L8.5 8.5l.94-2.06 2.06-.94-2.06-.94L8.5 2.5l-.94 2.06-2.06.94zm10 10l.94 2.06.94-2.06 2.06-.94-2.06-.94-.94-2.06-.94 2.06-2.06.94z\"/><path d=\"M17.41 7.96l-1.37-1.37c-.4-.4-.92-.59-1.43-.59-.52 0-1.04.2-1.43.59L10.3 9.45l-7.72 7.72c-.78.78-.78 2.05 0 2.83L4 21.41c.39.39.9.59 1.41.59.51 0 1.02-.2 1.41-.59l7.78-7.78 2.81-2.81c.8-.78.8-2.07 0-2.86zM5.41 20L4 18.59l7.72-7.72 1.47 1.35L5.41 20z\"/>\n",
              "  </svg>\n",
              "      </button>\n",
              "\n",
              "\n",
              "\n",
              "    <div id=\"df-3c98d1ba-0d47-4aaf-9f67-39503b5a1bb8\">\n",
              "      <button class=\"colab-df-quickchart\" onclick=\"quickchart('df-3c98d1ba-0d47-4aaf-9f67-39503b5a1bb8')\"\n",
              "              title=\"Suggest charts.\"\n",
              "              style=\"display:none;\">\n",
              "\n",
              "<svg xmlns=\"http://www.w3.org/2000/svg\" height=\"24px\"viewBox=\"0 0 24 24\"\n",
              "     width=\"24px\">\n",
              "    <g>\n",
              "        <path d=\"M19 3H5c-1.1 0-2 .9-2 2v14c0 1.1.9 2 2 2h14c1.1 0 2-.9 2-2V5c0-1.1-.9-2-2-2zM9 17H7v-7h2v7zm4 0h-2V7h2v10zm4 0h-2v-4h2v4z\"/>\n",
              "    </g>\n",
              "</svg>\n",
              "      </button>\n",
              "    </div>\n",
              "\n",
              "<style>\n",
              "  .colab-df-quickchart {\n",
              "    background-color: #E8F0FE;\n",
              "    border: none;\n",
              "    border-radius: 50%;\n",
              "    cursor: pointer;\n",
              "    display: none;\n",
              "    fill: #1967D2;\n",
              "    height: 32px;\n",
              "    padding: 0 0 0 0;\n",
              "    width: 32px;\n",
              "  }\n",
              "\n",
              "  .colab-df-quickchart:hover {\n",
              "    background-color: #E2EBFA;\n",
              "    box-shadow: 0px 1px 2px rgba(60, 64, 67, 0.3), 0px 1px 3px 1px rgba(60, 64, 67, 0.15);\n",
              "    fill: #174EA6;\n",
              "  }\n",
              "\n",
              "  [theme=dark] .colab-df-quickchart {\n",
              "    background-color: #3B4455;\n",
              "    fill: #D2E3FC;\n",
              "  }\n",
              "\n",
              "  [theme=dark] .colab-df-quickchart:hover {\n",
              "    background-color: #434B5C;\n",
              "    box-shadow: 0px 1px 3px 1px rgba(0, 0, 0, 0.15);\n",
              "    filter: drop-shadow(0px 1px 2px rgba(0, 0, 0, 0.3));\n",
              "    fill: #FFFFFF;\n",
              "  }\n",
              "</style>\n",
              "\n",
              "    <script>\n",
              "      async function quickchart(key) {\n",
              "        const containerElement = document.querySelector('#' + key);\n",
              "        const charts = await google.colab.kernel.invokeFunction(\n",
              "            'suggestCharts', [key], {});\n",
              "      }\n",
              "    </script>\n",
              "\n",
              "      <script>\n",
              "\n",
              "function displayQuickchartButton(domScope) {\n",
              "  let quickchartButtonEl =\n",
              "    domScope.querySelector('#df-3c98d1ba-0d47-4aaf-9f67-39503b5a1bb8 button.colab-df-quickchart');\n",
              "  quickchartButtonEl.style.display =\n",
              "    google.colab.kernel.accessAllowed ? 'block' : 'none';\n",
              "}\n",
              "\n",
              "        displayQuickchartButton(document);\n",
              "      </script>\n",
              "      <style>\n",
              "    .colab-df-container {\n",
              "      display:flex;\n",
              "      flex-wrap:wrap;\n",
              "      gap: 12px;\n",
              "    }\n",
              "\n",
              "    .colab-df-convert {\n",
              "      background-color: #E8F0FE;\n",
              "      border: none;\n",
              "      border-radius: 50%;\n",
              "      cursor: pointer;\n",
              "      display: none;\n",
              "      fill: #1967D2;\n",
              "      height: 32px;\n",
              "      padding: 0 0 0 0;\n",
              "      width: 32px;\n",
              "    }\n",
              "\n",
              "    .colab-df-convert:hover {\n",
              "      background-color: #E2EBFA;\n",
              "      box-shadow: 0px 1px 2px rgba(60, 64, 67, 0.3), 0px 1px 3px 1px rgba(60, 64, 67, 0.15);\n",
              "      fill: #174EA6;\n",
              "    }\n",
              "\n",
              "    [theme=dark] .colab-df-convert {\n",
              "      background-color: #3B4455;\n",
              "      fill: #D2E3FC;\n",
              "    }\n",
              "\n",
              "    [theme=dark] .colab-df-convert:hover {\n",
              "      background-color: #434B5C;\n",
              "      box-shadow: 0px 1px 3px 1px rgba(0, 0, 0, 0.15);\n",
              "      filter: drop-shadow(0px 1px 2px rgba(0, 0, 0, 0.3));\n",
              "      fill: #FFFFFF;\n",
              "    }\n",
              "  </style>\n",
              "\n",
              "      <script>\n",
              "        const buttonEl =\n",
              "          document.querySelector('#df-c258b728-90f7-4627-a9a1-3e2a2356cf31 button.colab-df-convert');\n",
              "        buttonEl.style.display =\n",
              "          google.colab.kernel.accessAllowed ? 'block' : 'none';\n",
              "\n",
              "        async function convertToInteractive(key) {\n",
              "          const element = document.querySelector('#df-c258b728-90f7-4627-a9a1-3e2a2356cf31');\n",
              "          const dataTable =\n",
              "            await google.colab.kernel.invokeFunction('convertToInteractive',\n",
              "                                                     [key], {});\n",
              "          if (!dataTable) return;\n",
              "\n",
              "          const docLinkHtml = 'Like what you see? Visit the ' +\n",
              "            '<a target=\"_blank\" href=https://colab.research.google.com/notebooks/data_table.ipynb>data table notebook</a>'\n",
              "            + ' to learn more about interactive tables.';\n",
              "          element.innerHTML = '';\n",
              "          dataTable['output_type'] = 'display_data';\n",
              "          await google.colab.output.renderOutput(dataTable, element);\n",
              "          const docLink = document.createElement('div');\n",
              "          docLink.innerHTML = docLinkHtml;\n",
              "          element.appendChild(docLink);\n",
              "        }\n",
              "      </script>\n",
              "    </div>\n",
              "  </div>\n"
            ]
          },
          "metadata": {},
          "execution_count": 3
        }
      ],
      "source": [
        "train_data = pd.read_csv('train (1).csv')\n",
        "\n",
        "train_data.head()"
      ]
    },
    {
      "cell_type": "code",
      "execution_count": null,
      "metadata": {
        "colab": {
          "base_uri": "https://localhost:8080/"
        },
        "id": "NlU_xL28MuFg",
        "outputId": "92564115-eec1-479d-814a-e657a4793764"
      },
      "outputs": [
        {
          "output_type": "execute_result",
          "data": {
            "text/plain": [
              "10    3959\n",
              "6     2069\n",
              "9     2019\n",
              "8     1483\n",
              "5     1157\n",
              "1     1098\n",
              "2     1018\n",
              "0      500\n",
              "7      461\n",
              "3      322\n",
              "4      310\n",
              "Name: Class, dtype: int64"
            ]
          },
          "metadata": {},
          "execution_count": 4
        }
      ],
      "source": [
        "train_data['Class'].value_counts()"
      ]
    },
    {
      "cell_type": "code",
      "execution_count": null,
      "metadata": {
        "colab": {
          "base_uri": "https://localhost:8080/"
        },
        "id": "PjH9JqrXMuFg",
        "outputId": "8e02babf-3300-462a-997f-6402bc27bbae"
      },
      "outputs": [
        {
          "output_type": "stream",
          "name": "stdout",
          "text": [
            "<class 'pandas.core.frame.DataFrame'>\n",
            "RangeIndex: 14396 entries, 0 to 14395\n",
            "Data columns (total 18 columns):\n",
            " #   Column              Non-Null Count  Dtype  \n",
            "---  ------              --------------  -----  \n",
            " 0   Id                  14396 non-null  int64  \n",
            " 1   Artist Name         14396 non-null  object \n",
            " 2   Track Name          14396 non-null  object \n",
            " 3   Popularity          14063 non-null  float64\n",
            " 4   danceability        14396 non-null  float64\n",
            " 5   energy              14396 non-null  float64\n",
            " 6   key                 12787 non-null  float64\n",
            " 7   loudness            14396 non-null  float64\n",
            " 8   mode                14396 non-null  int64  \n",
            " 9   speechiness         14396 non-null  float64\n",
            " 10  acousticness        14396 non-null  float64\n",
            " 11  instrumentalness    10855 non-null  float64\n",
            " 12  liveness            14396 non-null  float64\n",
            " 13  valence             14396 non-null  float64\n",
            " 14  tempo               14396 non-null  float64\n",
            " 15  duration_in min/ms  14396 non-null  float64\n",
            " 16  time_signature      14396 non-null  int64  \n",
            " 17  Class               14396 non-null  int64  \n",
            "dtypes: float64(12), int64(4), object(2)\n",
            "memory usage: 2.0+ MB\n"
          ]
        }
      ],
      "source": [
        "train_data.info()"
      ]
    },
    {
      "cell_type": "code",
      "execution_count": null,
      "metadata": {
        "colab": {
          "base_uri": "https://localhost:8080/"
        },
        "id": "Z5QiaT3qMuFh",
        "outputId": "574e0eb7-7499-4726-ed04-3d57007a882c"
      },
      "outputs": [
        {
          "output_type": "execute_result",
          "data": {
            "text/plain": [
              "Id                       0\n",
              "Artist Name              0\n",
              "Track Name               0\n",
              "Popularity             333\n",
              "danceability             0\n",
              "energy                   0\n",
              "key                   1609\n",
              "loudness                 0\n",
              "mode                     0\n",
              "speechiness              0\n",
              "acousticness             0\n",
              "instrumentalness      3541\n",
              "liveness                 0\n",
              "valence                  0\n",
              "tempo                    0\n",
              "duration_in min/ms       0\n",
              "time_signature           0\n",
              "Class                    0\n",
              "dtype: int64"
            ]
          },
          "metadata": {},
          "execution_count": 8
        }
      ],
      "source": [
        "train_data.isnull().sum()"
      ]
    },
    {
      "cell_type": "code",
      "execution_count": null,
      "metadata": {
        "id": "wC-qKFvMMuFi"
      },
      "outputs": [],
      "source": [
        "#imput missing\n",
        "train_data[\"Popularity\"].fillna(train_data[\"Popularity\"].mean(), inplace=True)\n",
        "train_data[\"key\"].fillna(train_data[\"key\"].mode()[0], inplace=True)\n",
        "train_data[\"instrumentalness\"].fillna(0, inplace=True)"
      ]
    },
    {
      "cell_type": "code",
      "execution_count": null,
      "metadata": {
        "colab": {
          "base_uri": "https://localhost:8080/"
        },
        "id": "e4RgzXE8MuFi",
        "outputId": "8a68643c-106d-4929-d47f-c789caefcc37"
      },
      "outputs": [
        {
          "output_type": "execute_result",
          "data": {
            "text/plain": [
              "Id                    0\n",
              "Artist Name           0\n",
              "Track Name            0\n",
              "Popularity            0\n",
              "danceability          0\n",
              "energy                0\n",
              "key                   0\n",
              "loudness              0\n",
              "mode                  0\n",
              "speechiness           0\n",
              "acousticness          0\n",
              "instrumentalness      0\n",
              "liveness              0\n",
              "valence               0\n",
              "tempo                 0\n",
              "duration_in min/ms    0\n",
              "time_signature        0\n",
              "Class                 0\n",
              "dtype: int64"
            ]
          },
          "metadata": {},
          "execution_count": 10
        }
      ],
      "source": [
        "train_data.isnull().sum()"
      ]
    },
    {
      "cell_type": "code",
      "execution_count": null,
      "metadata": {
        "id": "a4JQgBfdMuFk"
      },
      "outputs": [],
      "source": [
        "cat_cols = ['Artist Name','Track Name']\n",
        "for col in cat_cols:\n",
        "    train_data[col] = train_data[col].astype('str')"
      ]
    },
    {
      "cell_type": "code",
      "execution_count": null,
      "metadata": {
        "id": "WCAM7k54MuFk"
      },
      "outputs": [],
      "source": [
        "X_train= train_data.drop('Class' ,axis = 1)\n",
        "y_train = train_data['Class']"
      ]
    },
    {
      "cell_type": "code",
      "source": [
        "model = CatBoostClassifier(loss_function='MultiClass', verbose=False)\n",
        "model.fit(X_train, y_train, cat_features=cat_cols)"
      ],
      "metadata": {
        "colab": {
          "base_uri": "https://localhost:8080/"
        },
        "id": "56msRCHsKqQa",
        "outputId": "643ac842-6ab4-448c-b579-6d2f5b01de0e"
      },
      "execution_count": null,
      "outputs": [
        {
          "output_type": "execute_result",
          "data": {
            "text/plain": [
              "<catboost.core.CatBoostClassifier at 0x783e48ae7b20>"
            ]
          },
          "metadata": {},
          "execution_count": 13
        }
      ]
    },
    {
      "cell_type": "code",
      "source": [
        "test_data = pd.read_csv('test (2).csv')\n"
      ],
      "metadata": {
        "id": "We43E-ADLxga"
      },
      "execution_count": null,
      "outputs": []
    },
    {
      "cell_type": "code",
      "source": [
        "test_data[\"Popularity\"].fillna(test_data[\"Popularity\"].mean(), inplace=True)\n",
        "test_data[\"key\"].fillna(test_data[\"key\"].mode()[0], inplace=True)\n",
        "test_data[\"instrumentalness\"].fillna(0, inplace=True)"
      ],
      "metadata": {
        "id": "V828vPzXNrTb"
      },
      "execution_count": null,
      "outputs": []
    },
    {
      "cell_type": "code",
      "source": [
        "y_pred"
      ],
      "metadata": {
        "colab": {
          "base_uri": "https://localhost:8080/"
        },
        "id": "O-3eRyNENuoe",
        "outputId": "cc064178-ef9a-4455-d27a-613534f51a8e"
      },
      "execution_count": null,
      "outputs": [
        {
          "output_type": "execute_result",
          "data": {
            "text/plain": [
              "array([[1.08893089e-03, 2.40141054e-02, 2.39393332e-01, ...,\n",
              "        3.96479993e-04, 1.15234136e-01, 6.20225773e-02],\n",
              "       [2.96238377e-05, 1.18115985e-02, 6.89902444e-02, ...,\n",
              "        5.45122478e-03, 5.63325183e-03, 2.91990427e-01],\n",
              "       [3.33624362e-05, 6.46755858e-03, 6.63011547e-04, ...,\n",
              "        1.18072414e-03, 9.37005957e-01, 3.41932429e-02],\n",
              "       ...,\n",
              "       [5.50237928e-05, 2.54570044e-02, 5.61880611e-04, ...,\n",
              "        4.69754909e-04, 2.30095404e-02, 1.62330082e-01],\n",
              "       [4.22033797e-04, 5.05337849e-03, 8.85860587e-02, ...,\n",
              "        5.48458008e-04, 1.40756853e-02, 8.83607649e-01],\n",
              "       [1.66907797e-04, 6.52013396e-02, 5.50567294e-03, ...,\n",
              "        8.65223366e-03, 2.34258455e-01, 3.96232355e-01]])"
            ]
          },
          "metadata": {},
          "execution_count": 19
        }
      ]
    },
    {
      "cell_type": "code",
      "execution_count": null,
      "metadata": {
        "id": "lvJF7llIMuFp"
      },
      "outputs": [],
      "source": [
        "\n",
        "\n",
        "test_data[\"Class\"] = model.predict(test_data)\n",
        "\n",
        "# Select only the 'Class' and 'id' columns\n",
        "selected_columns = ['Id','Class']\n",
        "submission = test_data[selected_columns]\n",
        "\n",
        "# Save the adjusted predictions to a CSV file\n",
        "submission.to_csv(\"cat predict.csv\", index=False)\n"
      ]
    },
    {
      "cell_type": "code",
      "source": [
        "print(test_data['Class'].value_counts())"
      ],
      "metadata": {
        "id": "JtuJQ5Lze85S",
        "colab": {
          "base_uri": "https://localhost:8080/"
        },
        "outputId": "ec4aa8dc-af58-4f81-c801-4d6bf0ba6069"
      },
      "execution_count": null,
      "outputs": [
        {
          "output_type": "stream",
          "name": "stdout",
          "text": [
            "10    1277\n",
            "6      474\n",
            "9      441\n",
            "8      316\n",
            "5      304\n",
            "2      236\n",
            "1      152\n",
            "0      135\n",
            "7      113\n",
            "4       76\n",
            "3       76\n",
            "Name: Class, dtype: int64\n"
          ]
        }
      ]
    },
    {
      "cell_type": "code",
      "source": [
        "from sklearn.ensemble import RandomForestClassifier\n",
        "\n",
        "tree = RandomForestClassifier(\n",
        "    n_estimators=100,\n",
        "    criterion='gini',\n",
        "    max_depth=None,\n",
        "    min_samples_split=2,\n",
        "    min_samples_leaf=1,\n",
        "    class_weight=None,  # Adjust based on class imbalance\n",
        "    bootstrap=True,  # Use bootstrap sampling\n",
        "    oob_score=True  # Enable out-of-bag (OOB) scoring\n",
        ")\n",
        "X_train.drop(columns=[\"Track Name\", \"Artist Name\"], inplace=True)\n",
        "\n",
        "\n",
        "\n",
        "\n",
        "\n",
        "tree.fit(X_train,y_train)\n",
        "\n"
      ],
      "metadata": {
        "colab": {
          "base_uri": "https://localhost:8080/",
          "height": 74
        },
        "id": "1RbroO57N_1E",
        "outputId": "275a204b-7487-423f-b938-5ea0d600b92a"
      },
      "execution_count": null,
      "outputs": [
        {
          "output_type": "execute_result",
          "data": {
            "text/plain": [
              "RandomForestClassifier(oob_score=True)"
            ],
            "text/html": [
              "<style>#sk-container-id-1 {color: black;background-color: white;}#sk-container-id-1 pre{padding: 0;}#sk-container-id-1 div.sk-toggleable {background-color: white;}#sk-container-id-1 label.sk-toggleable__label {cursor: pointer;display: block;width: 100%;margin-bottom: 0;padding: 0.3em;box-sizing: border-box;text-align: center;}#sk-container-id-1 label.sk-toggleable__label-arrow:before {content: \"▸\";float: left;margin-right: 0.25em;color: #696969;}#sk-container-id-1 label.sk-toggleable__label-arrow:hover:before {color: black;}#sk-container-id-1 div.sk-estimator:hover label.sk-toggleable__label-arrow:before {color: black;}#sk-container-id-1 div.sk-toggleable__content {max-height: 0;max-width: 0;overflow: hidden;text-align: left;background-color: #f0f8ff;}#sk-container-id-1 div.sk-toggleable__content pre {margin: 0.2em;color: black;border-radius: 0.25em;background-color: #f0f8ff;}#sk-container-id-1 input.sk-toggleable__control:checked~div.sk-toggleable__content {max-height: 200px;max-width: 100%;overflow: auto;}#sk-container-id-1 input.sk-toggleable__control:checked~label.sk-toggleable__label-arrow:before {content: \"▾\";}#sk-container-id-1 div.sk-estimator input.sk-toggleable__control:checked~label.sk-toggleable__label {background-color: #d4ebff;}#sk-container-id-1 div.sk-label input.sk-toggleable__control:checked~label.sk-toggleable__label {background-color: #d4ebff;}#sk-container-id-1 input.sk-hidden--visually {border: 0;clip: rect(1px 1px 1px 1px);clip: rect(1px, 1px, 1px, 1px);height: 1px;margin: -1px;overflow: hidden;padding: 0;position: absolute;width: 1px;}#sk-container-id-1 div.sk-estimator {font-family: monospace;background-color: #f0f8ff;border: 1px dotted black;border-radius: 0.25em;box-sizing: border-box;margin-bottom: 0.5em;}#sk-container-id-1 div.sk-estimator:hover {background-color: #d4ebff;}#sk-container-id-1 div.sk-parallel-item::after {content: \"\";width: 100%;border-bottom: 1px solid gray;flex-grow: 1;}#sk-container-id-1 div.sk-label:hover label.sk-toggleable__label {background-color: #d4ebff;}#sk-container-id-1 div.sk-serial::before {content: \"\";position: absolute;border-left: 1px solid gray;box-sizing: border-box;top: 0;bottom: 0;left: 50%;z-index: 0;}#sk-container-id-1 div.sk-serial {display: flex;flex-direction: column;align-items: center;background-color: white;padding-right: 0.2em;padding-left: 0.2em;position: relative;}#sk-container-id-1 div.sk-item {position: relative;z-index: 1;}#sk-container-id-1 div.sk-parallel {display: flex;align-items: stretch;justify-content: center;background-color: white;position: relative;}#sk-container-id-1 div.sk-item::before, #sk-container-id-1 div.sk-parallel-item::before {content: \"\";position: absolute;border-left: 1px solid gray;box-sizing: border-box;top: 0;bottom: 0;left: 50%;z-index: -1;}#sk-container-id-1 div.sk-parallel-item {display: flex;flex-direction: column;z-index: 1;position: relative;background-color: white;}#sk-container-id-1 div.sk-parallel-item:first-child::after {align-self: flex-end;width: 50%;}#sk-container-id-1 div.sk-parallel-item:last-child::after {align-self: flex-start;width: 50%;}#sk-container-id-1 div.sk-parallel-item:only-child::after {width: 0;}#sk-container-id-1 div.sk-dashed-wrapped {border: 1px dashed gray;margin: 0 0.4em 0.5em 0.4em;box-sizing: border-box;padding-bottom: 0.4em;background-color: white;}#sk-container-id-1 div.sk-label label {font-family: monospace;font-weight: bold;display: inline-block;line-height: 1.2em;}#sk-container-id-1 div.sk-label-container {text-align: center;}#sk-container-id-1 div.sk-container {/* jupyter's `normalize.less` sets `[hidden] { display: none; }` but bootstrap.min.css set `[hidden] { display: none !important; }` so we also need the `!important` here to be able to override the default hidden behavior on the sphinx rendered scikit-learn.org. See: https://github.com/scikit-learn/scikit-learn/issues/21755 */display: inline-block !important;position: relative;}#sk-container-id-1 div.sk-text-repr-fallback {display: none;}</style><div id=\"sk-container-id-1\" class=\"sk-top-container\"><div class=\"sk-text-repr-fallback\"><pre>RandomForestClassifier(oob_score=True)</pre><b>In a Jupyter environment, please rerun this cell to show the HTML representation or trust the notebook. <br />On GitHub, the HTML representation is unable to render, please try loading this page with nbviewer.org.</b></div><div class=\"sk-container\" hidden><div class=\"sk-item\"><div class=\"sk-estimator sk-toggleable\"><input class=\"sk-toggleable__control sk-hidden--visually\" id=\"sk-estimator-id-1\" type=\"checkbox\" checked><label for=\"sk-estimator-id-1\" class=\"sk-toggleable__label sk-toggleable__label-arrow\">RandomForestClassifier</label><div class=\"sk-toggleable__content\"><pre>RandomForestClassifier(oob_score=True)</pre></div></div></div></div></div>"
            ]
          },
          "metadata": {},
          "execution_count": 22
        }
      ]
    },
    {
      "cell_type": "code",
      "source": [
        "test_data = pd.read_csv('test (2).csv')\n",
        "test_data = test_data.fillna(0)\n",
        "test_data.drop(columns=[\"Track Name\", \"Artist Name\"], inplace=True)\n",
        "test_data[\"Class\"] = tree.predict(test_data)\n",
        "\n",
        "# Select only the 'Class' and 'id' columns\n",
        "selected_columns = ['Id','Class']\n",
        "submission = test_data[selected_columns]\n",
        "\n",
        "# Save the adjusted predictions to a CSV file\n",
        "submission.to_csv(\"tree predict.csv\", index=False)\n"
      ],
      "metadata": {
        "id": "NjAXpueWUElO"
      },
      "execution_count": null,
      "outputs": []
    },
    {
      "cell_type": "code",
      "source": [
        "print(test_data['Class'].value_counts())"
      ],
      "metadata": {
        "colab": {
          "base_uri": "https://localhost:8080/"
        },
        "id": "IX8erVqFUMvR",
        "outputId": "ae557c0f-a5ef-4d47-bfaa-9c4aeb0f4598"
      },
      "execution_count": null,
      "outputs": [
        {
          "output_type": "stream",
          "name": "stdout",
          "text": [
            "10    1286\n",
            "9      515\n",
            "6      501\n",
            "8      283\n",
            "5      274\n",
            "2      191\n",
            "0      158\n",
            "1      140\n",
            "7      107\n",
            "3       79\n",
            "4       66\n",
            "Name: Class, dtype: int64\n"
          ]
        }
      ]
    },
    {
      "cell_type": "code",
      "source": [
        "# Additional evaluation\n",
        "\n",
        "y_pred_test_labels = model.predict(X_test)\n",
        "\n",
        "test_classification_report = classification_report(y_test, y_pred_test_labels)\n",
        "\n",
        "print(\"Test Classification Report:\")\n",
        "print(test_classification_report)"
      ],
      "metadata": {
        "id": "bWbZL6GzNQiy"
      },
      "execution_count": null,
      "outputs": []
    },
    {
      "cell_type": "code",
      "source": [],
      "metadata": {
        "id": "fsJeXK7LthJh"
      },
      "execution_count": null,
      "outputs": []
    }
  ],
  "metadata": {
    "kernelspec": {
      "display_name": "Python 3",
      "language": "python",
      "name": "python3"
    },
    "language_info": {
      "codemirror_mode": {
        "name": "ipython",
        "version": 3
      },
      "file_extension": ".py",
      "mimetype": "text/x-python",
      "name": "python",
      "nbconvert_exporter": "python",
      "pygments_lexer": "ipython3",
      "version": "3.8.5"
    },
    "colab": {
      "provenance": []
    }
  },
  "nbformat": 4,
  "nbformat_minor": 0
}